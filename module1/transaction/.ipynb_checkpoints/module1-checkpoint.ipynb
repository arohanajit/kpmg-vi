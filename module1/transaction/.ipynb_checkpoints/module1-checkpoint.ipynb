{
 "cells": [
  {
   "cell_type": "code",
   "execution_count": 1,
   "metadata": {},
   "outputs": [],
   "source": [
    "import numpy as np\n",
    "import pandas as pd\n",
    "import os"
   ]
  },
  {
   "cell_type": "code",
   "execution_count": 2,
   "metadata": {},
   "outputs": [
    {
     "data": {
      "text/html": [
       "<div>\n",
       "<style scoped>\n",
       "    .dataframe tbody tr th:only-of-type {\n",
       "        vertical-align: middle;\n",
       "    }\n",
       "\n",
       "    .dataframe tbody tr th {\n",
       "        vertical-align: top;\n",
       "    }\n",
       "\n",
       "    .dataframe thead th {\n",
       "        text-align: right;\n",
       "    }\n",
       "</style>\n",
       "<table border=\"1\" class=\"dataframe\">\n",
       "  <thead>\n",
       "    <tr style=\"text-align: right;\">\n",
       "      <th></th>\n",
       "      <th>customer_id</th>\n",
       "      <th>first_name</th>\n",
       "      <th>last_name</th>\n",
       "      <th>gender</th>\n",
       "      <th>past_3_years_bike_related_purchases</th>\n",
       "      <th>DOB</th>\n",
       "      <th>age</th>\n",
       "      <th>job_title</th>\n",
       "      <th>job_industry_category</th>\n",
       "      <th>wealth_segment</th>\n",
       "      <th>deceased_indicator</th>\n",
       "      <th>owns_car</th>\n",
       "      <th>tenure</th>\n",
       "    </tr>\n",
       "  </thead>\n",
       "  <tbody>\n",
       "    <tr>\n",
       "      <th>1</th>\n",
       "      <td>1</td>\n",
       "      <td>Laraine</td>\n",
       "      <td>Medendorp</td>\n",
       "      <td>F</td>\n",
       "      <td>93</td>\n",
       "      <td>1953-10-12 00:00:00</td>\n",
       "      <td>NaN</td>\n",
       "      <td>Executive Secretary</td>\n",
       "      <td>Health</td>\n",
       "      <td>Mass Customer</td>\n",
       "      <td>N</td>\n",
       "      <td>Yes</td>\n",
       "      <td>11</td>\n",
       "    </tr>\n",
       "    <tr>\n",
       "      <th>2</th>\n",
       "      <td>2</td>\n",
       "      <td>Eli</td>\n",
       "      <td>Bockman</td>\n",
       "      <td>Male</td>\n",
       "      <td>81</td>\n",
       "      <td>1980-12-16 00:00:00</td>\n",
       "      <td>NaN</td>\n",
       "      <td>Administrative Officer</td>\n",
       "      <td>Financial Services</td>\n",
       "      <td>Mass Customer</td>\n",
       "      <td>N</td>\n",
       "      <td>Yes</td>\n",
       "      <td>16</td>\n",
       "    </tr>\n",
       "    <tr>\n",
       "      <th>3</th>\n",
       "      <td>3</td>\n",
       "      <td>Arlin</td>\n",
       "      <td>Dearle</td>\n",
       "      <td>Male</td>\n",
       "      <td>61</td>\n",
       "      <td>1954-01-20 00:00:00</td>\n",
       "      <td>NaN</td>\n",
       "      <td>Recruiting Manager</td>\n",
       "      <td>Property</td>\n",
       "      <td>Mass Customer</td>\n",
       "      <td>N</td>\n",
       "      <td>Yes</td>\n",
       "      <td>15</td>\n",
       "    </tr>\n",
       "    <tr>\n",
       "      <th>4</th>\n",
       "      <td>4</td>\n",
       "      <td>Talbot</td>\n",
       "      <td>NaN</td>\n",
       "      <td>Male</td>\n",
       "      <td>33</td>\n",
       "      <td>1961-10-03 00:00:00</td>\n",
       "      <td>NaN</td>\n",
       "      <td>NaN</td>\n",
       "      <td>IT</td>\n",
       "      <td>Mass Customer</td>\n",
       "      <td>N</td>\n",
       "      <td>No</td>\n",
       "      <td>7</td>\n",
       "    </tr>\n",
       "    <tr>\n",
       "      <th>5</th>\n",
       "      <td>5</td>\n",
       "      <td>Sheila-kathryn</td>\n",
       "      <td>Calton</td>\n",
       "      <td>Female</td>\n",
       "      <td>56</td>\n",
       "      <td>1977-05-13 00:00:00</td>\n",
       "      <td>NaN</td>\n",
       "      <td>Senior Editor</td>\n",
       "      <td>NaN</td>\n",
       "      <td>Affluent Customer</td>\n",
       "      <td>N</td>\n",
       "      <td>Yes</td>\n",
       "      <td>8</td>\n",
       "    </tr>\n",
       "  </tbody>\n",
       "</table>\n",
       "</div>"
      ],
      "text/plain": [
       "0 customer_id      first_name  last_name  gender  \\\n",
       "1           1         Laraine  Medendorp       F   \n",
       "2           2             Eli    Bockman    Male   \n",
       "3           3           Arlin     Dearle    Male   \n",
       "4           4          Talbot        NaN    Male   \n",
       "5           5  Sheila-kathryn     Calton  Female   \n",
       "\n",
       "0 past_3_years_bike_related_purchases                  DOB  age  \\\n",
       "1                                  93  1953-10-12 00:00:00  NaN   \n",
       "2                                  81  1980-12-16 00:00:00  NaN   \n",
       "3                                  61  1954-01-20 00:00:00  NaN   \n",
       "4                                  33  1961-10-03 00:00:00  NaN   \n",
       "5                                  56  1977-05-13 00:00:00  NaN   \n",
       "\n",
       "0               job_title job_industry_category     wealth_segment  \\\n",
       "1     Executive Secretary                Health      Mass Customer   \n",
       "2  Administrative Officer    Financial Services      Mass Customer   \n",
       "3      Recruiting Manager              Property      Mass Customer   \n",
       "4                     NaN                    IT      Mass Customer   \n",
       "5           Senior Editor                   NaN  Affluent Customer   \n",
       "\n",
       "0 deceased_indicator owns_car tenure  \n",
       "1                  N      Yes     11  \n",
       "2                  N      Yes     16  \n",
       "3                  N      Yes     15  \n",
       "4                  N       No      7  \n",
       "5                  N      Yes      8  "
      ]
     },
     "execution_count": 2,
     "metadata": {},
     "output_type": "execute_result"
    }
   ],
   "source": [
    "df = pd.read_excel('kpmg_raw.xlsx', sheet_name=\"CustomerDemographic\")\n",
    "df.columns = df.iloc[0]\n",
    "df = df.iloc[1:]\n",
    "del df['default']\n",
    "df.insert(6,column='age',value=np.nan)\n",
    "df.head()"
   ]
  },
  {
   "cell_type": "code",
   "execution_count": 3,
   "metadata": {
    "tags": [
     "outputPrepend"
    ]
   },
   "outputs": [
    {
     "data": {
      "text/plain": [
       "0\n",
       "customer_id                               0\n",
       "first_name                                0\n",
       "last_name                               125\n",
       "gender                                    0\n",
       "past_3_years_bike_related_purchases       0\n",
       "DOB                                      87\n",
       "age                                    4000\n",
       "job_title                               506\n",
       "job_industry_category                   656\n",
       "wealth_segment                            0\n",
       "deceased_indicator                        0\n",
       "owns_car                                  0\n",
       "tenure                                   87\n",
       "dtype: int64"
      ]
     },
     "execution_count": 3,
     "metadata": {},
     "output_type": "execute_result"
    }
   ],
   "source": [
    "df.isnull().sum()"
   ]
  },
  {
   "cell_type": "code",
   "execution_count": 4,
   "metadata": {},
   "outputs": [
    {
     "name": "stdout",
     "output_type": "stream",
     "text": [
      "Business Systems Development Analyst    45\n",
      "Tax Accountant                          44\n",
      "Social Worker                           44\n",
      "Internal Auditor                        42\n",
      "Legal Assistant                         41\n",
      "                                        ..\n",
      "Database Administrator II                4\n",
      "Health Coach I                           3\n",
      "Research Assistant III                   3\n",
      "Health Coach III                         3\n",
      "Developer I                              1\n",
      "Name: job_title, Length: 195, dtype: int64\n",
      "Manufacturing         799\n",
      "Financial Services    774\n",
      "Health                602\n",
      "Retail                358\n",
      "Property              267\n",
      "IT                    223\n",
      "Entertainment         136\n",
      "Argiculture           113\n",
      "Telecommunications     72\n",
      "Name: job_industry_category, dtype: int64\n"
     ]
    }
   ],
   "source": [
    "print(df['job_title'].value_counts())\n",
    "print(df['job_industry_category'].value_counts())"
   ]
  },
  {
   "cell_type": "code",
   "execution_count": 5,
   "metadata": {
    "tags": [
     "outputPrepend",
     "outputPrepend",
     "outputPrepend",
     "outputPrepend",
     "outputPrepend",
     "outputPrepend",
     "outputPrepend",
     "outputPrepend",
     "outputPrepend",
     "outputPrepend",
     "outputPrepend",
     "outputPrepend",
     "outputPrepend",
     "outputPrepend",
     "outputPrepend",
     "outputPrepend"
    ]
   },
   "outputs": [
    {
     "name": "stderr",
     "output_type": "stream",
     "text": [
      "D:\\Programs\\conda\\lib\\site-packages\\pandas\\core\\indexing.py:670: SettingWithCopyWarning: \n",
      "A value is trying to be set on a copy of a slice from a DataFrame\n",
      "\n",
      "See the caveats in the documentation: https://pandas.pydata.org/pandas-docs/stable/user_guide/indexing.html#returning-a-view-versus-a-copy\n",
      "  self._setitem_with_indexer(indexer, value)\n"
     ]
    },
    {
     "name": "stdout",
     "output_type": "stream",
     "text": [
      "0\n",
      "customer_id                                           34\n",
      "first_name                                      Jephthah\n",
      "last_name                                       Bachmann\n",
      "gender                                                 U\n",
      "past_3_years_bike_related_purchases                   59\n",
      "DOB                                           1843-12-21\n",
      "age                                                  177\n",
      "job_title                                Legal Assistant\n",
      "job_industry_category                                 IT\n",
      "wealth_segment                         Affluent Customer\n",
      "deceased_indicator                                     N\n",
      "owns_car                                              No\n",
      "tenure                                                20\n",
      "Name: 34, dtype: object\n"
     ]
    }
   ],
   "source": [
    "import datetime\n",
    "for i in df.index:\n",
    "    if pd.isna(df['DOB'].iloc[i-1]):\n",
    "        continue\n",
    "    elif type(df['DOB'].iloc[i-1]) == str:\n",
    "        df['age'].iloc[i-1] = 2020 - int(df['DOB'].iloc[i-1][:4])\n",
    "    else:\n",
    "        df['age'].iloc[i-1] = 2020 - df['DOB'].iloc[i-1].year\n",
    "    if df['age'].iloc[i-1] >= 100:\n",
    "        print(df.iloc[i-1])"
   ]
  },
  {
   "cell_type": "code",
   "execution_count": 76,
   "metadata": {},
   "outputs": [
    {
     "name": "stdout",
     "output_type": "stream",
     "text": [
      "0\n",
      "customer_id                                           34\n",
      "first_name                                      Jephthah\n",
      "last_name                                       Bachmann\n",
      "gender                                                 U\n",
      "past_3_years_bike_related_purchases                   59\n",
      "DOB                                           1843-12-21\n",
      "age                                                  177\n",
      "job_title                                Legal Assistant\n",
      "job_industry_category                                 IT\n",
      "wealth_segment                         Affluent Customer\n",
      "deceased_indicator                                     N\n",
      "owns_car                                              No\n",
      "tenure                                                20\n",
      "Name: 34, dtype: object\n"
     ]
    }
   ],
   "source": []
  },
  {
   "cell_type": "code",
   "execution_count": null,
   "metadata": {},
   "outputs": [],
   "source": []
  }
 ],
 "metadata": {
  "kernelspec": {
   "display_name": "Python 3",
   "language": "python",
   "name": "python3"
  },
  "language_info": {
   "codemirror_mode": {
    "name": "ipython",
    "version": 3
   },
   "file_extension": ".py",
   "mimetype": "text/x-python",
   "name": "python",
   "nbconvert_exporter": "python",
   "pygments_lexer": "ipython3",
   "version": "3.7.6"
  }
 },
 "nbformat": 4,
 "nbformat_minor": 2
}
