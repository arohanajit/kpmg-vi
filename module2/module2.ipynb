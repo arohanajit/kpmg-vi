{
 "cells": [
  {
   "cell_type": "code",
   "execution_count": 2,
   "metadata": {},
   "outputs": [],
   "source": [
    "import numpy as np\n",
    "import pandas as pd\n",
    "import os\n",
    "import matplotlib.pyplot as plt\n",
    "import seaborn as sns"
   ]
  },
  {
   "cell_type": "code",
   "execution_count": 3,
   "metadata": {},
   "outputs": [
    {
     "data": {
      "text/html": [
       "<div>\n",
       "<style scoped>\n",
       "    .dataframe tbody tr th:only-of-type {\n",
       "        vertical-align: middle;\n",
       "    }\n",
       "\n",
       "    .dataframe tbody tr th {\n",
       "        vertical-align: top;\n",
       "    }\n",
       "\n",
       "    .dataframe thead th {\n",
       "        text-align: right;\n",
       "    }\n",
       "</style>\n",
       "<table border=\"1\" class=\"dataframe\">\n",
       "  <thead>\n",
       "    <tr style=\"text-align: right;\">\n",
       "      <th></th>\n",
       "      <th>customer_id</th>\n",
       "      <th>first_name</th>\n",
       "      <th>last_name</th>\n",
       "      <th>gender</th>\n",
       "      <th>past_3_years_bike_related_purchases</th>\n",
       "      <th>DOB</th>\n",
       "      <th>age</th>\n",
       "      <th>job_title</th>\n",
       "      <th>job_industry_category</th>\n",
       "      <th>wealth_segment</th>\n",
       "      <th>deceased_indicator</th>\n",
       "      <th>owns_car</th>\n",
       "      <th>tenure</th>\n",
       "    </tr>\n",
       "  </thead>\n",
       "  <tbody>\n",
       "    <tr>\n",
       "      <th>0</th>\n",
       "      <td>1</td>\n",
       "      <td>Laraine</td>\n",
       "      <td>Medendorp</td>\n",
       "      <td>Female</td>\n",
       "      <td>93</td>\n",
       "      <td>1953-10-12</td>\n",
       "      <td>67</td>\n",
       "      <td>Executive Secretary</td>\n",
       "      <td>Health</td>\n",
       "      <td>Mass Customer</td>\n",
       "      <td>N</td>\n",
       "      <td>Yes</td>\n",
       "      <td>11.0</td>\n",
       "    </tr>\n",
       "    <tr>\n",
       "      <th>1</th>\n",
       "      <td>2</td>\n",
       "      <td>Eli</td>\n",
       "      <td>Bockman</td>\n",
       "      <td>Male</td>\n",
       "      <td>81</td>\n",
       "      <td>1980-12-16</td>\n",
       "      <td>40</td>\n",
       "      <td>Administrative Officer</td>\n",
       "      <td>Financial Services</td>\n",
       "      <td>Mass Customer</td>\n",
       "      <td>N</td>\n",
       "      <td>Yes</td>\n",
       "      <td>16.0</td>\n",
       "    </tr>\n",
       "    <tr>\n",
       "      <th>2</th>\n",
       "      <td>3</td>\n",
       "      <td>Arlin</td>\n",
       "      <td>Dearle</td>\n",
       "      <td>Male</td>\n",
       "      <td>61</td>\n",
       "      <td>1954-01-20</td>\n",
       "      <td>66</td>\n",
       "      <td>Recruiting Manager</td>\n",
       "      <td>Property</td>\n",
       "      <td>Mass Customer</td>\n",
       "      <td>N</td>\n",
       "      <td>Yes</td>\n",
       "      <td>15.0</td>\n",
       "    </tr>\n",
       "    <tr>\n",
       "      <th>3</th>\n",
       "      <td>4</td>\n",
       "      <td>Talbot</td>\n",
       "      <td>Dearle</td>\n",
       "      <td>Male</td>\n",
       "      <td>33</td>\n",
       "      <td>1961-10-03</td>\n",
       "      <td>59</td>\n",
       "      <td>Senior Editor</td>\n",
       "      <td>IT</td>\n",
       "      <td>Mass Customer</td>\n",
       "      <td>N</td>\n",
       "      <td>No</td>\n",
       "      <td>7.0</td>\n",
       "    </tr>\n",
       "    <tr>\n",
       "      <th>4</th>\n",
       "      <td>5</td>\n",
       "      <td>Sheila-kathryn</td>\n",
       "      <td>Calton</td>\n",
       "      <td>Female</td>\n",
       "      <td>56</td>\n",
       "      <td>1977-05-13</td>\n",
       "      <td>43</td>\n",
       "      <td>Senior Editor</td>\n",
       "      <td>IT</td>\n",
       "      <td>Affluent Customer</td>\n",
       "      <td>N</td>\n",
       "      <td>Yes</td>\n",
       "      <td>8.0</td>\n",
       "    </tr>\n",
       "  </tbody>\n",
       "</table>\n",
       "</div>"
      ],
      "text/plain": [
       "   customer_id      first_name  last_name  gender  \\\n",
       "0            1         Laraine  Medendorp  Female   \n",
       "1            2             Eli    Bockman    Male   \n",
       "2            3           Arlin     Dearle    Male   \n",
       "3            4          Talbot     Dearle    Male   \n",
       "4            5  Sheila-kathryn     Calton  Female   \n",
       "\n",
       "   past_3_years_bike_related_purchases        DOB  age  \\\n",
       "0                                   93 1953-10-12   67   \n",
       "1                                   81 1980-12-16   40   \n",
       "2                                   61 1954-01-20   66   \n",
       "3                                   33 1961-10-03   59   \n",
       "4                                   56 1977-05-13   43   \n",
       "\n",
       "                job_title job_industry_category     wealth_segment  \\\n",
       "0     Executive Secretary                Health      Mass Customer   \n",
       "1  Administrative Officer    Financial Services      Mass Customer   \n",
       "2      Recruiting Manager              Property      Mass Customer   \n",
       "3           Senior Editor                    IT      Mass Customer   \n",
       "4           Senior Editor                    IT  Affluent Customer   \n",
       "\n",
       "  deceased_indicator owns_car  tenure  \n",
       "0                  N      Yes    11.0  \n",
       "1                  N      Yes    16.0  \n",
       "2                  N      Yes    15.0  \n",
       "3                  N       No     7.0  \n",
       "4                  N      Yes     8.0  "
      ]
     },
     "execution_count": 3,
     "metadata": {},
     "output_type": "execute_result"
    }
   ],
   "source": [
    "df = pd.read_excel('updated_cd.xlsx')\n",
    "df.head()"
   ]
  },
  {
   "cell_type": "code",
   "execution_count": 4,
   "metadata": {},
   "outputs": [
    {
     "data": {
      "text/plain": [
       "<matplotlib.axes._subplots.AxesSubplot at 0x23832693408>"
      ]
     },
     "execution_count": 4,
     "metadata": {},
     "output_type": "execute_result"
    },
    {
     "data": {
      "image/png": "[encoded data removed]",
      "text/plain": [
       "<Figure size 432x288 with 1 Axes>"
      ]
     },
     "metadata": {
      "needs_background": "light"
     },
     "output_type": "display_data"
    }
   ],
   "source": [
    "import seaborn as sns\n",
    "f,m,u = 0,0,0\n",
    "f = len(df[df['gender']=='Female'])\n",
    "m = len(df[df['gender']=='Male'])\n",
    "u = len(df[df['gender']=='Unknown'])\n",
    "sns.barplot(y=[f,m,u], x=['F','M','U'])"
   ]
  },
  {
   "cell_type": "code",
   "execution_count": 6,
   "metadata": {},
   "outputs": [
    {
     "name": "stdout",
     "output_type": "stream",
     "text": [
      "98359 93483 3718\n"
     ]
    }
   ],
   "source": [
    "f,m,u = 0,0,0\n",
    "for i in df.index:\n",
    "    if df['gender'].iloc[i] == 'Male':\n",
    "        m+=df['past_3_years_bike_related_purchases'].iloc[i]\n",
    "    elif df['gender'].iloc[i] == 'Female':\n",
    "        f+=df['past_3_years_bike_related_purchases'].iloc[i]\n",
    "    elif df['gender'].iloc[i] == 'Unknown':\n",
    "        u+=df['past_3_years_bike_related_purchases'].iloc[i]\n",
    "print(f,m,u)"
   ]
  },
  {
   "cell_type": "code",
   "execution_count": 57,
   "metadata": {},
   "outputs": [
    {
     "data": {
      "text/plain": [
       "Text(0.5, 1.0, 'Old')"
      ]
     },
     "execution_count": 57,
     "metadata": {},
     "output_type": "execute_result"
    },
    {
     "data": {
      "image/png": "[encoded data removed]",
      "text/plain": [
       "<Figure size 432x288 with 1 Axes>"
      ]
     },
     "metadata": {
      "needs_background": "light"
     },
     "output_type": "display_data"
    }
   ],
   "source": [
    "sns.barplot(y=[f,m,u], x=['F','M','U']).set_title('Old')"
   ]
  },
  {
   "cell_type": "code",
   "execution_count": 53,
   "metadata": {},
   "outputs": [
    {
     "data": {
      "image/png": "[encoded data removed]",
      "text/plain": [
       "<Figure size 432x288 with 1 Axes>"
      ]
     },
     "metadata": {
      "needs_background": "light"
     },
     "output_type": "display_data"
    }
   ],
   "source": [
    "y = len(df[df['age']<=40.0])\n",
    "m = len(df[(df['age']>40.0) & (df['age']<=60.0)])\n",
    "o = len(df[(df['age']>60.0) & (df['age']<=90.0)])\n",
    "vo = len(df[df['age']>90.0])\n",
    "sns.barplot(y=[y,m,o,vo], x=['Young','Medium','Old','Very Old'])"
   ]
  },
  {
   "cell_type": "code",
   "execution_count": 58,
   "metadata": {},
   "outputs": [
    {
     "name": "stdout",
     "output_type": "stream",
     "text": [
      "77155 97609 20737 59\n"
     ]
    }
   ],
   "source": [
    "y,m,o,vo = 0,0,0,0\n",
    "for i in df.index:\n",
    "    if df['age'].iloc[i] <=40.0:\n",
    "        y+=df['past_3_years_bike_related_purchases'].iloc[i]\n",
    "    elif df['age'].iloc[i] > 40.0 and df['age'].iloc[i] <= 60.0:\n",
    "        m+=df['past_3_years_bike_related_purchases'].iloc[i]\n",
    "    elif df['age'].iloc[i] >60.0 and df['age'].iloc[i] <= 90.0:\n",
    "        o+=df['past_3_years_bike_related_purchases'].iloc[i]\n",
    "    elif df['age'].iloc[i] >90.0:\n",
    "        vo+=df['past_3_years_bike_related_purchases'].iloc[i]\n",
    "print(y,m,o,vo)"
   ]
  },
  {
   "cell_type": "code",
   "execution_count": 59,
   "metadata": {},
   "outputs": [
    {
     "data": {
      "text/plain": [
       "Text(0.5, 1.0, 'Old')"
      ]
     },
     "execution_count": 59,
     "metadata": {},
     "output_type": "execute_result"
    },
    {
     "data": {
      "image/png": "[encoded data removed]",
      "text/plain": [
       "<Figure size 432x288 with 1 Axes>"
      ]
     },
     "metadata": {
      "needs_background": "light"
     },
     "output_type": "display_data"
    }
   ],
   "source": [
    "sns.barplot(y=[y,m,o,vo], x=['Young','Medium','Old','Very Old']).set_title('Old')"
   ]
  },
  {
   "cell_type": "code",
   "execution_count": 31,
   "metadata": {},
   "outputs": [
    {
     "data": {
      "text/html": [
       "<div>\n",
       "<style scoped>\n",
       "    .dataframe tbody tr th:only-of-type {\n",
       "        vertical-align: middle;\n",
       "    }\n",
       "\n",
       "    .dataframe tbody tr th {\n",
       "        vertical-align: top;\n",
       "    }\n",
       "\n",
       "    .dataframe thead th {\n",
       "        text-align: right;\n",
       "    }\n",
       "</style>\n",
       "<table border=\"1\" class=\"dataframe\">\n",
       "  <thead>\n",
       "    <tr style=\"text-align: right;\">\n",
       "      <th></th>\n",
       "      <th>first_name</th>\n",
       "      <th>last_name</th>\n",
       "      <th>gender</th>\n",
       "      <th>past_3_years_bike_related_purchases</th>\n",
       "      <th>DOB</th>\n",
       "      <th>age</th>\n",
       "      <th>job_title</th>\n",
       "      <th>job_industry_category</th>\n",
       "      <th>wealth_segment</th>\n",
       "      <th>deceased_indicator</th>\n",
       "      <th>owns_car</th>\n",
       "      <th>tenure</th>\n",
       "      <th>address</th>\n",
       "      <th>postcode</th>\n",
       "      <th>state</th>\n",
       "      <th>country</th>\n",
       "      <th>property_valuation</th>\n",
       "      <th>Rank</th>\n",
       "      <th>Value</th>\n",
       "    </tr>\n",
       "  </thead>\n",
       "  <tbody>\n",
       "    <tr>\n",
       "      <th>0</th>\n",
       "      <td>Chickie</td>\n",
       "      <td>Brister</td>\n",
       "      <td>Male</td>\n",
       "      <td>86</td>\n",
       "      <td>1957-07-12</td>\n",
       "      <td>NaN</td>\n",
       "      <td>General Manager</td>\n",
       "      <td>Manufacturing</td>\n",
       "      <td>Mass Customer</td>\n",
       "      <td>N</td>\n",
       "      <td>Yes</td>\n",
       "      <td>14</td>\n",
       "      <td>45 Shopko Center</td>\n",
       "      <td>4500</td>\n",
       "      <td>QLD</td>\n",
       "      <td>Australia</td>\n",
       "      <td>6</td>\n",
       "      <td>1</td>\n",
       "      <td>1.718750</td>\n",
       "    </tr>\n",
       "    <tr>\n",
       "      <th>1</th>\n",
       "      <td>Morly</td>\n",
       "      <td>Genery</td>\n",
       "      <td>Male</td>\n",
       "      <td>69</td>\n",
       "      <td>1970-03-22</td>\n",
       "      <td>NaN</td>\n",
       "      <td>Structural Engineer</td>\n",
       "      <td>Property</td>\n",
       "      <td>Mass Customer</td>\n",
       "      <td>N</td>\n",
       "      <td>No</td>\n",
       "      <td>16</td>\n",
       "      <td>14 Mccormick Park</td>\n",
       "      <td>2113</td>\n",
       "      <td>NSW</td>\n",
       "      <td>Australia</td>\n",
       "      <td>11</td>\n",
       "      <td>1</td>\n",
       "      <td>1.718750</td>\n",
       "    </tr>\n",
       "    <tr>\n",
       "      <th>2</th>\n",
       "      <td>Ardelis</td>\n",
       "      <td>Forrester</td>\n",
       "      <td>Female</td>\n",
       "      <td>10</td>\n",
       "      <td>1974-08-28 00:00:00</td>\n",
       "      <td>NaN</td>\n",
       "      <td>Senior Cost Accountant</td>\n",
       "      <td>Financial Services</td>\n",
       "      <td>Affluent Customer</td>\n",
       "      <td>N</td>\n",
       "      <td>No</td>\n",
       "      <td>10</td>\n",
       "      <td>5 Colorado Crossing</td>\n",
       "      <td>3505</td>\n",
       "      <td>VIC</td>\n",
       "      <td>Australia</td>\n",
       "      <td>5</td>\n",
       "      <td>1</td>\n",
       "      <td>1.718750</td>\n",
       "    </tr>\n",
       "    <tr>\n",
       "      <th>3</th>\n",
       "      <td>Lucine</td>\n",
       "      <td>Stutt</td>\n",
       "      <td>Female</td>\n",
       "      <td>64</td>\n",
       "      <td>1979-01-28</td>\n",
       "      <td>NaN</td>\n",
       "      <td>Account Representative III</td>\n",
       "      <td>Manufacturing</td>\n",
       "      <td>Affluent Customer</td>\n",
       "      <td>N</td>\n",
       "      <td>Yes</td>\n",
       "      <td>5</td>\n",
       "      <td>207 Annamark Plaza</td>\n",
       "      <td>4814</td>\n",
       "      <td>QLD</td>\n",
       "      <td>Australia</td>\n",
       "      <td>1</td>\n",
       "      <td>4</td>\n",
       "      <td>1.703125</td>\n",
       "    </tr>\n",
       "    <tr>\n",
       "      <th>4</th>\n",
       "      <td>Melinda</td>\n",
       "      <td>Hadlee</td>\n",
       "      <td>Female</td>\n",
       "      <td>34</td>\n",
       "      <td>1965-09-21</td>\n",
       "      <td>NaN</td>\n",
       "      <td>Financial Analyst</td>\n",
       "      <td>Financial Services</td>\n",
       "      <td>Affluent Customer</td>\n",
       "      <td>N</td>\n",
       "      <td>No</td>\n",
       "      <td>19</td>\n",
       "      <td>115 Montana Place</td>\n",
       "      <td>2093</td>\n",
       "      <td>NSW</td>\n",
       "      <td>Australia</td>\n",
       "      <td>9</td>\n",
       "      <td>4</td>\n",
       "      <td>1.703125</td>\n",
       "    </tr>\n",
       "  </tbody>\n",
       "</table>\n",
       "</div>"
      ],
      "text/plain": [
       "  first_name  last_name  gender  past_3_years_bike_related_purchases  \\\n",
       "0    Chickie    Brister    Male                                   86   \n",
       "1      Morly     Genery    Male                                   69   \n",
       "2    Ardelis  Forrester  Female                                   10   \n",
       "3     Lucine      Stutt  Female                                   64   \n",
       "4    Melinda     Hadlee  Female                                   34   \n",
       "\n",
       "                   DOB  age                   job_title job_industry_category  \\\n",
       "0           1957-07-12  NaN             General Manager         Manufacturing   \n",
       "1           1970-03-22  NaN         Structural Engineer              Property   \n",
       "2  1974-08-28 00:00:00  NaN      Senior Cost Accountant    Financial Services   \n",
       "3           1979-01-28  NaN  Account Representative III         Manufacturing   \n",
       "4           1965-09-21  NaN           Financial Analyst    Financial Services   \n",
       "\n",
       "      wealth_segment deceased_indicator owns_car  tenure              address  \\\n",
       "0      Mass Customer                  N      Yes      14     45 Shopko Center   \n",
       "1      Mass Customer                  N       No      16    14 Mccormick Park   \n",
       "2  Affluent Customer                  N       No      10  5 Colorado Crossing   \n",
       "3  Affluent Customer                  N      Yes       5   207 Annamark Plaza   \n",
       "4  Affluent Customer                  N       No      19    115 Montana Place   \n",
       "\n",
       "   postcode state    country  property_valuation  Rank     Value  \n",
       "0      4500   QLD  Australia                   6     1  1.718750  \n",
       "1      2113   NSW  Australia                  11     1  1.718750  \n",
       "2      3505   VIC  Australia                   5     1  1.718750  \n",
       "3      4814   QLD  Australia                   1     4  1.703125  \n",
       "4      2093   NSW  Australia                   9     4  1.703125  "
      ]
     },
     "execution_count": 31,
     "metadata": {},
     "output_type": "execute_result"
    }
   ],
   "source": [
    "df2 = pd.read_csv('submission2.csv')\n",
    "df2.insert(5,column='age',value=np.nan)\n",
    "df2.head()"
   ]
  },
  {
   "cell_type": "code",
   "execution_count": 33,
   "metadata": {},
   "outputs": [
    {
     "data": {
      "text/html": [
       "<div>\n",
       "<style scoped>\n",
       "    .dataframe tbody tr th:only-of-type {\n",
       "        vertical-align: middle;\n",
       "    }\n",
       "\n",
       "    .dataframe tbody tr th {\n",
       "        vertical-align: top;\n",
       "    }\n",
       "\n",
       "    .dataframe thead th {\n",
       "        text-align: right;\n",
       "    }\n",
       "</style>\n",
       "<table border=\"1\" class=\"dataframe\">\n",
       "  <thead>\n",
       "    <tr style=\"text-align: right;\">\n",
       "      <th></th>\n",
       "      <th>first_name</th>\n",
       "      <th>last_name</th>\n",
       "      <th>gender</th>\n",
       "      <th>past_3_years_bike_related_purchases</th>\n",
       "      <th>DOB</th>\n",
       "      <th>age</th>\n",
       "      <th>job_title</th>\n",
       "      <th>job_industry_category</th>\n",
       "      <th>wealth_segment</th>\n",
       "      <th>deceased_indicator</th>\n",
       "      <th>owns_car</th>\n",
       "      <th>tenure</th>\n",
       "      <th>address</th>\n",
       "      <th>postcode</th>\n",
       "      <th>state</th>\n",
       "      <th>country</th>\n",
       "      <th>property_valuation</th>\n",
       "      <th>Rank</th>\n",
       "      <th>Value</th>\n",
       "    </tr>\n",
       "  </thead>\n",
       "  <tbody>\n",
       "    <tr>\n",
       "      <th>0</th>\n",
       "      <td>Chickie</td>\n",
       "      <td>Brister</td>\n",
       "      <td>Male</td>\n",
       "      <td>86</td>\n",
       "      <td>1957-07-12</td>\n",
       "      <td>63.0</td>\n",
       "      <td>General Manager</td>\n",
       "      <td>Manufacturing</td>\n",
       "      <td>Mass Customer</td>\n",
       "      <td>N</td>\n",
       "      <td>Yes</td>\n",
       "      <td>14</td>\n",
       "      <td>45 Shopko Center</td>\n",
       "      <td>4500</td>\n",
       "      <td>QLD</td>\n",
       "      <td>Australia</td>\n",
       "      <td>6</td>\n",
       "      <td>1</td>\n",
       "      <td>1.718750</td>\n",
       "    </tr>\n",
       "    <tr>\n",
       "      <th>1</th>\n",
       "      <td>Morly</td>\n",
       "      <td>Genery</td>\n",
       "      <td>Male</td>\n",
       "      <td>69</td>\n",
       "      <td>1970-03-22</td>\n",
       "      <td>50.0</td>\n",
       "      <td>Structural Engineer</td>\n",
       "      <td>Property</td>\n",
       "      <td>Mass Customer</td>\n",
       "      <td>N</td>\n",
       "      <td>No</td>\n",
       "      <td>16</td>\n",
       "      <td>14 Mccormick Park</td>\n",
       "      <td>2113</td>\n",
       "      <td>NSW</td>\n",
       "      <td>Australia</td>\n",
       "      <td>11</td>\n",
       "      <td>1</td>\n",
       "      <td>1.718750</td>\n",
       "    </tr>\n",
       "    <tr>\n",
       "      <th>2</th>\n",
       "      <td>Ardelis</td>\n",
       "      <td>Forrester</td>\n",
       "      <td>Female</td>\n",
       "      <td>10</td>\n",
       "      <td>1974-08-28 00:00:00</td>\n",
       "      <td>46.0</td>\n",
       "      <td>Senior Cost Accountant</td>\n",
       "      <td>Financial Services</td>\n",
       "      <td>Affluent Customer</td>\n",
       "      <td>N</td>\n",
       "      <td>No</td>\n",
       "      <td>10</td>\n",
       "      <td>5 Colorado Crossing</td>\n",
       "      <td>3505</td>\n",
       "      <td>VIC</td>\n",
       "      <td>Australia</td>\n",
       "      <td>5</td>\n",
       "      <td>1</td>\n",
       "      <td>1.718750</td>\n",
       "    </tr>\n",
       "    <tr>\n",
       "      <th>3</th>\n",
       "      <td>Lucine</td>\n",
       "      <td>Stutt</td>\n",
       "      <td>Female</td>\n",
       "      <td>64</td>\n",
       "      <td>1979-01-28</td>\n",
       "      <td>41.0</td>\n",
       "      <td>Account Representative III</td>\n",
       "      <td>Manufacturing</td>\n",
       "      <td>Affluent Customer</td>\n",
       "      <td>N</td>\n",
       "      <td>Yes</td>\n",
       "      <td>5</td>\n",
       "      <td>207 Annamark Plaza</td>\n",
       "      <td>4814</td>\n",
       "      <td>QLD</td>\n",
       "      <td>Australia</td>\n",
       "      <td>1</td>\n",
       "      <td>4</td>\n",
       "      <td>1.703125</td>\n",
       "    </tr>\n",
       "    <tr>\n",
       "      <th>4</th>\n",
       "      <td>Melinda</td>\n",
       "      <td>Hadlee</td>\n",
       "      <td>Female</td>\n",
       "      <td>34</td>\n",
       "      <td>1965-09-21</td>\n",
       "      <td>55.0</td>\n",
       "      <td>Financial Analyst</td>\n",
       "      <td>Financial Services</td>\n",
       "      <td>Affluent Customer</td>\n",
       "      <td>N</td>\n",
       "      <td>No</td>\n",
       "      <td>19</td>\n",
       "      <td>115 Montana Place</td>\n",
       "      <td>2093</td>\n",
       "      <td>NSW</td>\n",
       "      <td>Australia</td>\n",
       "      <td>9</td>\n",
       "      <td>4</td>\n",
       "      <td>1.703125</td>\n",
       "    </tr>\n",
       "  </tbody>\n",
       "</table>\n",
       "</div>"
      ],
      "text/plain": [
       "  first_name  last_name  gender  past_3_years_bike_related_purchases  \\\n",
       "0    Chickie    Brister    Male                                   86   \n",
       "1      Morly     Genery    Male                                   69   \n",
       "2    Ardelis  Forrester  Female                                   10   \n",
       "3     Lucine      Stutt  Female                                   64   \n",
       "4    Melinda     Hadlee  Female                                   34   \n",
       "\n",
       "                   DOB   age                   job_title  \\\n",
       "0           1957-07-12  63.0             General Manager   \n",
       "1           1970-03-22  50.0         Structural Engineer   \n",
       "2  1974-08-28 00:00:00  46.0      Senior Cost Accountant   \n",
       "3           1979-01-28  41.0  Account Representative III   \n",
       "4           1965-09-21  55.0           Financial Analyst   \n",
       "\n",
       "  job_industry_category     wealth_segment deceased_indicator owns_car  \\\n",
       "0         Manufacturing      Mass Customer                  N      Yes   \n",
       "1              Property      Mass Customer                  N       No   \n",
       "2    Financial Services  Affluent Customer                  N       No   \n",
       "3         Manufacturing  Affluent Customer                  N      Yes   \n",
       "4    Financial Services  Affluent Customer                  N       No   \n",
       "\n",
       "   tenure              address  postcode state    country  property_valuation  \\\n",
       "0      14     45 Shopko Center      4500   QLD  Australia                   6   \n",
       "1      16    14 Mccormick Park      2113   NSW  Australia                  11   \n",
       "2      10  5 Colorado Crossing      3505   VIC  Australia                   5   \n",
       "3       5   207 Annamark Plaza      4814   QLD  Australia                   1   \n",
       "4      19    115 Montana Place      2093   NSW  Australia                   9   \n",
       "\n",
       "   Rank     Value  \n",
       "0     1  1.718750  \n",
       "1     1  1.718750  \n",
       "2     1  1.718750  \n",
       "3     4  1.703125  \n",
       "4     4  1.703125  "
      ]
     },
     "execution_count": 33,
     "metadata": {},
     "output_type": "execute_result"
    }
   ],
   "source": [
    "import datetime\n",
    "for i in df2.index:\n",
    "    if pd.isna(df2['DOB'].iloc[i-1]):\n",
    "        continue\n",
    "    elif type(df2['DOB'].iloc[i-1]) == str:\n",
    "        df2['age'].iloc[i-1] = 2020 - int(df2['DOB'].iloc[i-1][:4])\n",
    "    else:\n",
    "        df2['age'].iloc[i-1] = 2020 - df2['DOB'].iloc[i-1].year\n",
    "    if df2['age'].iloc[i-1] >= 100:\n",
    "        print(df2.iloc[i-1])\n",
    "df2.head()"
   ]
  },
  {
   "cell_type": "code",
   "execution_count": 34,
   "metadata": {},
   "outputs": [
    {
     "data": {
      "text/plain": [
       "array(['Male', 'Female', 'U'], dtype=object)"
      ]
     },
     "execution_count": 34,
     "metadata": {},
     "output_type": "execute_result"
    }
   ],
   "source": [
    "df2['gender'].unique()"
   ]
  },
  {
   "cell_type": "code",
   "execution_count": 60,
   "metadata": {},
   "outputs": [
    {
     "name": "stdout",
     "output_type": "stream",
     "text": [
      "25212 23765 859\n"
     ]
    }
   ],
   "source": [
    "f,m,u = 0,0,0\n",
    "for i in df2.index:\n",
    "    if df2['gender'].iloc[i] == 'Male':\n",
    "        m+=df2['past_3_years_bike_related_purchases'].iloc[i]\n",
    "    elif df2['gender'].iloc[i] == 'Female':\n",
    "        f+=df2['past_3_years_bike_related_purchases'].iloc[i]\n",
    "    elif df2['gender'].iloc[i] == 'U':\n",
    "        u+=df2['past_3_years_bike_related_purchases'].iloc[i]\n",
    "print(f,m,u)"
   ]
  },
  {
   "cell_type": "code",
   "execution_count": 61,
   "metadata": {},
   "outputs": [
    {
     "data": {
      "text/plain": [
       "Text(0.5, 1.0, 'New')"
      ]
     },
     "execution_count": 61,
     "metadata": {},
     "output_type": "execute_result"
    },
    {
     "data": {
      "image/png": "[encoded data removed]",
      "text/plain": [
       "<Figure size 432x288 with 1 Axes>"
      ]
     },
     "metadata": {
      "needs_background": "light"
     },
     "output_type": "display_data"
    }
   ],
   "source": [
    "sns.barplot(y=[f,m,u], x=['Female','Male','Unknown']).set_title('New')"
   ]
  },
  {
   "cell_type": "code",
   "execution_count": 55,
   "metadata": {},
   "outputs": [
    {
     "data": {
      "text/plain": [
       "Text(0.5, 1.0, 'New')"
      ]
     },
     "execution_count": 55,
     "metadata": {},
     "output_type": "execute_result"
    },
    {
     "data": {
      "image/png": "[encoded data removed]",
      "text/plain": [
       "<Figure size 432x288 with 1 Axes>"
      ]
     },
     "metadata": {
      "needs_background": "light"
     },
     "output_type": "display_data"
    }
   ],
   "source": [
    "y = len(df2[df2['age']<=40.0])\n",
    "m = len(df2[(df2['age']>40.0) & (df2['age']<=60.0)])\n",
    "o = len(df2[(df2['age']>60.0) & (df2['age']<=90.0)])\n",
    "vo = len(df2[df2['age']>90.0])\n",
    "sns.barplot(y=[y,m,o,vo], x=['Young','Medium','Old','Very Old']).set_title('New')"
   ]
  },
  {
   "cell_type": "code",
   "execution_count": 62,
   "metadata": {},
   "outputs": [
    {
     "name": "stdout",
     "output_type": "stream",
     "text": [
      "14590 30016 1820 0\n"
     ]
    }
   ],
   "source": [
    "y,m,o,vo = 0,0,0,0\n",
    "for i in df2.index:\n",
    "    if df2['age'].iloc[i] <40.0:\n",
    "        y+=df2['past_3_years_bike_related_purchases'].iloc[i]\n",
    "    elif df2['age'].iloc[i] > 40.0 and df['age'].iloc[i] < 60.0:\n",
    "        m+=df2['past_3_years_bike_related_purchases'].iloc[i]\n",
    "    elif df2['age'].iloc[i] >60.0 and df['age'].iloc[i] < 90.0:\n",
    "        o+=df2['past_3_years_bike_related_purchases'].iloc[i]\n",
    "    elif df2['age'].iloc[i] >90.0:\n",
    "        vo+=df2['past_3_years_bike_related_purchases'].iloc[i]\n",
    "print(y,m,o,vo)"
   ]
  },
  {
   "cell_type": "code",
   "execution_count": 63,
   "metadata": {},
   "outputs": [
    {
     "data": {
      "text/plain": [
       "Text(0.5, 1.0, 'New')"
      ]
     },
     "execution_count": 63,
     "metadata": {},
     "output_type": "execute_result"
    },
    {
     "data": {
      "image/png": "[encoded data removed]",
      "text/plain": [
       "<Figure size 432x288 with 1 Axes>"
      ]
     },
     "metadata": {
      "needs_background": "light"
     },
     "output_type": "display_data"
    }
   ],
   "source": [
    "sns.barplot(y=[y,m,o,vo], x=['Young','Medium','Old','Very Old']).set_title('New')"
   ]
  },
  {
   "cell_type": "code",
   "execution_count": 88,
   "metadata": {},
   "outputs": [],
   "source": [
    "a = list(df['job_industry_category'].unique())\n",
    "c= []\n",
    "for i in a:\n",
    "    c.append(0)\n",
    "for i in df.index:\n",
    "    if df['job_industry_category'].iloc[i] == a[0]:\n",
    "        c[0]+=df['past_3_years_bike_related_purchases'].iloc[i]\n",
    "    elif df['job_industry_category'].iloc[i] == a[1]:\n",
    "        c[1]+=df['past_3_years_bike_related_purchases'].iloc[i]\n",
    "    elif df['job_industry_category'].iloc[i] == a[2]:\n",
    "        c[2]+=df['past_3_years_bike_related_purchases'].iloc[i]\n",
    "    elif df['job_industry_category'].iloc[i] == a[3]:\n",
    "        c[3]+=df['past_3_years_bike_related_purchases'].iloc[i]\n",
    "    elif df['job_industry_category'].iloc[i] == a[4]:\n",
    "        c[4]+=df['past_3_years_bike_related_purchases'].iloc[i]\n",
    "    elif df['job_industry_category'].iloc[i] == a[5]:\n",
    "        c[5]+=df['past_3_years_bike_related_purchases'].iloc[i]\n",
    "    elif df['job_industry_category'].iloc[i] == a[6]:\n",
    "        c[6]+=df['past_3_years_bike_related_purchases'].iloc[i]\n",
    "    elif df['job_industry_category'].iloc[i] == a[7]:\n",
    "        c[7]+=df['past_3_years_bike_related_purchases'].iloc[i]\n",
    "    elif df['job_industry_category'].iloc[i] == a[8]:\n",
    "        c[8]+=df['past_3_years_bike_related_purchases'].iloc[i]\n"
   ]
  },
  {
   "cell_type": "code",
   "execution_count": 89,
   "metadata": {},
   "outputs": [
    {
     "data": {
      "image/png": "[encoded data removed]",
      "text/plain": [
       "<Figure size 432x288 with 1 Axes>"
      ]
     },
     "metadata": {
      "needs_background": "light"
     },
     "output_type": "display_data"
    }
   ],
   "source": [
    "ax = sns.barplot(y=c,x=a)\n",
    "ax.set_xticklabels(ax.get_xticklabels(), rotation=40, ha=\"right\")\n",
    "ax.set_title('Old')\n",
    "plt.tight_layout()\n",
    "plt.show()"
   ]
  },
  {
   "cell_type": "code",
   "execution_count": 90,
   "metadata": {},
   "outputs": [],
   "source": [
    "a = list(df['job_industry_category'].unique())\n",
    "c= []\n",
    "for i in a:\n",
    "    c.append(0)\n",
    "for i in df2.index:\n",
    "    if df2['job_industry_category'].iloc[i] == a[0]:\n",
    "        c[0]+=df2['past_3_years_bike_related_purchases'].iloc[i]\n",
    "    elif df2['job_industry_category'].iloc[i] == a[1]:\n",
    "        c[1]+=df2['past_3_years_bike_related_purchases'].iloc[i]\n",
    "    elif df2['job_industry_category'].iloc[i] == a[2]:\n",
    "        c[2]+=df2['past_3_years_bike_related_purchases'].iloc[i]\n",
    "    elif df2['job_industry_category'].iloc[i] == a[3]:\n",
    "        c[3]+=df2['past_3_years_bike_related_purchases'].iloc[i]\n",
    "    elif df2['job_industry_category'].iloc[i] == a[4]:\n",
    "        c[4]+=df2['past_3_years_bike_related_purchases'].iloc[i]\n",
    "    elif df2['job_industry_category'].iloc[i] == a[5]:\n",
    "        c[5]+=df2['past_3_years_bike_related_purchases'].iloc[i]\n",
    "    elif df2['job_industry_category'].iloc[i] == a[6]:\n",
    "        c[6]+=df2['past_3_years_bike_related_purchases'].iloc[i]\n",
    "    elif df2['job_industry_category'].iloc[i] == a[7]:\n",
    "        c[7]+=df2['past_3_years_bike_related_purchases'].iloc[i]\n",
    "    elif df2['job_industry_category'].iloc[i] == a[8]:\n",
    "        c[8]+=df2['past_3_years_bike_related_purchases'].iloc[i]\n"
   ]
  },
  {
   "cell_type": "code",
   "execution_count": 91,
   "metadata": {},
   "outputs": [
    {
     "data": {
      "image/png": "[encoded data removed]",
      "text/plain": [
       "<Figure size 432x288 with 1 Axes>"
      ]
     },
     "metadata": {
      "needs_background": "light"
     },
     "output_type": "display_data"
    }
   ],
   "source": [
    "ax = sns.barplot(y=c,x=a)\n",
    "ax.set_xticklabels(ax.get_xticklabels(), rotation=40, ha=\"right\")\n",
    "ax.set_title('New')\n",
    "plt.tight_layout()\n",
    "plt.show()"
   ]
  },
  {
   "cell_type": "code",
   "execution_count": 82,
   "metadata": {},
   "outputs": [
    {
     "data": {
      "text/plain": [
       "['Mass Customer', 'Affluent Customer', 'High Net Worth']"
      ]
     },
     "execution_count": 82,
     "metadata": {},
     "output_type": "execute_result"
    }
   ],
   "source": [
    "a = list(df['wealth_segment'].unique())\n",
    "a"
   ]
  },
  {
   "cell_type": "code",
   "execution_count": 87,
   "metadata": {},
   "outputs": [
    {
     "data": {
      "image/png": "[encoded data removed]",
      "text/plain": [
       "<Figure size 432x288 with 1 Axes>"
      ]
     },
     "metadata": {
      "needs_background": "light"
     },
     "output_type": "display_data"
    }
   ],
   "source": [
    "a = list(df['wealth_segment'].unique())\n",
    "c= []\n",
    "for i in a:\n",
    "    c.append(0)\n",
    "for i in df.index:\n",
    "    if df['wealth_segment'].iloc[i] == a[0]:\n",
    "        c[0]+=df['past_3_years_bike_related_purchases'].iloc[i]\n",
    "    elif df['wealth_segment'].iloc[i] == a[1]:\n",
    "        c[1]+=df['past_3_years_bike_related_purchases'].iloc[i]\n",
    "    elif df['wealth_segment'].iloc[i] == a[2]:\n",
    "        c[2]+=df['past_3_years_bike_related_purchases'].iloc[i]\n",
    "\n",
    "ax = sns.barplot(y=c,x=a)\n",
    "ax.set_title('Old')\n",
    "plt.tight_layout()\n",
    "plt.show()"
   ]
  },
  {
   "cell_type": "code",
   "execution_count": 86,
   "metadata": {},
   "outputs": [
    {
     "data": {
      "image/png": "[encoded data removed]",
      "text/plain": [
       "<Figure size 432x288 with 1 Axes>"
      ]
     },
     "metadata": {
      "needs_background": "light"
     },
     "output_type": "display_data"
    }
   ],
   "source": [
    "a = list(df['wealth_segment'].unique())\n",
    "c= []\n",
    "for i in a:\n",
    "    c.append(0)\n",
    "for i in df2.index:\n",
    "    if df2['wealth_segment'].iloc[i] == a[0]:\n",
    "        c[0]+=df2['past_3_years_bike_related_purchases'].iloc[i]\n",
    "    elif df2['wealth_segment'].iloc[i] == a[1]:\n",
    "        c[1]+=df2['past_3_years_bike_related_purchases'].iloc[i]\n",
    "    elif df2['wealth_segment'].iloc[i] == a[2]:\n",
    "        c[2]+=df2['past_3_years_bike_related_purchases'].iloc[i]\n",
    "\n",
    "ax = sns.barplot(y=c,x=a)\n",
    "ax.set_title('New')\n",
    "plt.tight_layout()\n",
    "plt.show()"
   ]
  },
  {
   "cell_type": "code",
   "execution_count": null,
   "metadata": {},
   "outputs": [],
   "source": []
  }
 ],
 "metadata": {
  "kernelspec": {
   "display_name": "Python 3",
   "language": "python",
   "name": "python3"
  },
  "language_info": {
   "codemirror_mode": {
    "name": "ipython",
    "version": 3
   },
   "file_extension": ".py",
   "mimetype": "text/x-python",
   "name": "python",
   "nbconvert_exporter": "python",
   "pygments_lexer": "ipython3",
   "version": "3.7.6"
  }
 },
 "nbformat": 4,
 "nbformat_minor": 4
}
